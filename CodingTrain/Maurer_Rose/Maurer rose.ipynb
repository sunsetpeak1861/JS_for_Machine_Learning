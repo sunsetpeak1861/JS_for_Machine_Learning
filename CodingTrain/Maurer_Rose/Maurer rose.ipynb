{
 "cells": [
  {
   "cell_type": "code",
   "execution_count": 1,
   "metadata": {},
   "outputs": [],
   "source": [
    "import math, turtle\n",
    "\n",
    "screen = turtle.Screen()\n",
    "screen.setup(width=800, height=800, startx=0, starty=0)\n",
    "screen.bgcolor('black')\n",
    "pen = turtle.Turtle()\n",
    "pen.speed(20)\n",
    "n = 3\n",
    "d = 71\n",
    "\n",
    "pen.color('blue')\n",
    "pen.pensize(0.5)\n",
    "for theta in range(361):\n",
    "    k = 0.5 * theta * d * math.pi / 180\n",
    "    r = 300 * math.sin(n * k)\n",
    "    x = r * math.cos(k)\n",
    "    y = r * math.sin(k)\n",
    "    pen.goto(x, y)\n",
    "\n",
    "pen.color('red')\n",
    "pen.pensize(4)\n",
    "for theta in range(361):\n",
    "    k = theta * math.pi / 180\n",
    "    r = 300 * math.sin(n * k)\n",
    "    x = r * math.cos(k)\n",
    "    y = r * math.sin(k)\n",
    "    pen.goto(x, y)\n",
    "    \n",
    "# for theta in range(3610):\n",
    "#     n += 0.01\n",
    "#     d += 0.01\n",
    "\n"
   ]
  },
  {
   "cell_type": "code",
   "execution_count": null,
   "metadata": {},
   "outputs": [],
   "source": []
  }
 ],
 "metadata": {
  "kernelspec": {
   "display_name": "Python 3",
   "language": "python",
   "name": "python3"
  },
  "language_info": {
   "codemirror_mode": {
    "name": "ipython",
    "version": 3
   },
   "file_extension": ".py",
   "mimetype": "text/x-python",
   "name": "python",
   "nbconvert_exporter": "python",
   "pygments_lexer": "ipython3",
   "version": "3.7.5"
  }
 },
 "nbformat": 4,
 "nbformat_minor": 2
}
